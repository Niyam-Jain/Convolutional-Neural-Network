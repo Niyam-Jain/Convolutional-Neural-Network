{
 "cells": [
  {
   "cell_type": "code",
   "execution_count": 1,
   "id": "9c938797",
   "metadata": {},
   "outputs": [],
   "source": [
    "import tensorflow as tf\n",
    "from keras.preprocessing.image import ImageDataGenerator"
   ]
  },
  {
   "cell_type": "code",
   "execution_count": 2,
   "id": "f21e5e73",
   "metadata": {},
   "outputs": [],
   "source": [
    "# Data Preprocessiong\n",
    "# Data Preprocessiong\n",
    "# Data Preprocessiong\n",
    "# Data Preprocessiong\n",
    "# Data Preprocessiong\n",
    "# Data Preprocessiong\n",
    "# Data Preprocessiong\n",
    "# Data Preprocessiong\n",
    "# Data Preprocessiong\n",
    "# Data Preprocessiong"
   ]
  },
  {
   "cell_type": "code",
   "execution_count": 3,
   "id": "efa5f8aa",
   "metadata": {},
   "outputs": [
    {
     "name": "stdout",
     "output_type": "stream",
     "text": [
      "Found 8000 images belonging to 2 classes.\n"
     ]
    }
   ],
   "source": [
    "train_datagen = ImageDataGenerator(\n",
    "\n",
    "    rescale = 1./255,\n",
    "    shear_range = 0.2,\n",
    "    zoom_range = 0.2,\n",
    "    horizontal_flip = True\n",
    ")\n",
    "\n",
    "\n",
    "training_set = train_datagen.flow_from_directory(\n",
    "\n",
    "    'dataset/training_set',\n",
    "    target_size = (64, 64),\n",
    "    batch_size = 32,\n",
    "    class_mode = 'binary'\n",
    ")"
   ]
  },
  {
   "cell_type": "code",
   "execution_count": 4,
   "id": "7ab94831",
   "metadata": {},
   "outputs": [
    {
     "name": "stdout",
     "output_type": "stream",
     "text": [
      "Found 2000 images belonging to 2 classes.\n"
     ]
    }
   ],
   "source": [
    "test_datagen = ImageDataGenerator(rescale=1./255)\n",
    "test_set = test_datagen.flow_from_directory(\n",
    "\n",
    "    'dataset/test_set',\n",
    "    target_size = (64, 64),\n",
    "    batch_size = 32,\n",
    "    class_mode = 'binary'\n",
    ")"
   ]
  },
  {
   "cell_type": "code",
   "execution_count": 5,
   "id": "4532a6ca",
   "metadata": {},
   "outputs": [],
   "source": [
    "# Building the CNN\n",
    "# Building the CNN\n",
    "# Building the CNN\n",
    "# Building the CNN\n",
    "# Building the CNN\n",
    "# Building the CNN\n",
    "# Building the CNN\n",
    "# Building the CNN"
   ]
  },
  {
   "cell_type": "code",
   "execution_count": 6,
   "id": "a532f233",
   "metadata": {},
   "outputs": [],
   "source": [
    "cnn = tf.keras.models.Sequential()"
   ]
  },
  {
   "cell_type": "code",
   "execution_count": 7,
   "id": "4d5db0f9",
   "metadata": {},
   "outputs": [],
   "source": [
    "# CONVOLUTION"
   ]
  },
  {
   "cell_type": "code",
   "execution_count": 8,
   "id": "68bcd42f",
   "metadata": {},
   "outputs": [],
   "source": [
    "cnn.add(tf.keras.layers.Conv2D(filters=32,kernel_size=3,activation='relu',input_shape=[64,64,3]))"
   ]
  },
  {
   "cell_type": "code",
   "execution_count": 9,
   "id": "a4dea482",
   "metadata": {},
   "outputs": [],
   "source": [
    "# POOLING (max Pooling)"
   ]
  },
  {
   "cell_type": "code",
   "execution_count": 10,
   "id": "c2b213e7",
   "metadata": {},
   "outputs": [],
   "source": [
    "cnn.add(tf.keras.layers.MaxPool2D(pool_size=2, strides=2))"
   ]
  },
  {
   "cell_type": "code",
   "execution_count": 11,
   "id": "236c4562",
   "metadata": {},
   "outputs": [],
   "source": [
    "cnn.add(tf.keras.layers.Conv2D(filters=32,kernel_size=3,activation='relu'))"
   ]
  },
  {
   "cell_type": "code",
   "execution_count": 12,
   "id": "1c524623",
   "metadata": {},
   "outputs": [],
   "source": [
    "cnn.add(tf.keras.layers.MaxPool2D(pool_size=2, strides=2))"
   ]
  },
  {
   "cell_type": "code",
   "execution_count": 13,
   "id": "a1c09600",
   "metadata": {},
   "outputs": [],
   "source": [
    "# FLATTENING"
   ]
  },
  {
   "cell_type": "code",
   "execution_count": 14,
   "id": "f402942f",
   "metadata": {},
   "outputs": [],
   "source": [
    "cnn.add(tf.keras.layers.Flatten())"
   ]
  },
  {
   "cell_type": "code",
   "execution_count": 15,
   "id": "eb436bd7",
   "metadata": {},
   "outputs": [],
   "source": [
    "# FULL CONNECTION"
   ]
  },
  {
   "cell_type": "code",
   "execution_count": 16,
   "id": "b214895a",
   "metadata": {},
   "outputs": [],
   "source": [
    "cnn.add(tf.keras.layers.Dense(units=128,activation='relu'))"
   ]
  },
  {
   "cell_type": "code",
   "execution_count": 17,
   "id": "467000e3",
   "metadata": {},
   "outputs": [],
   "source": [
    "#OUTPUT LAYER"
   ]
  },
  {
   "cell_type": "code",
   "execution_count": 18,
   "id": "212a80d4",
   "metadata": {},
   "outputs": [],
   "source": [
    "cnn.add(tf.keras.layers.Dense(units=1,activation='sigmoid'))"
   ]
  },
  {
   "cell_type": "code",
   "execution_count": 19,
   "id": "4c1ee13e",
   "metadata": {},
   "outputs": [],
   "source": [
    "#Training the CNN\n",
    "#Training the CNN\n",
    "#Training the CNN\n",
    "#Training the CNN\n",
    "#Training the CNN\n",
    "#Training the CNN\n",
    "#Training the CNN\n",
    "#Training the CNN\n",
    "#Training the CNN\n",
    "#Training the CNN"
   ]
  },
  {
   "cell_type": "code",
   "execution_count": 20,
   "id": "a906ce41",
   "metadata": {},
   "outputs": [],
   "source": [
    "# COMPILING the CNN"
   ]
  },
  {
   "cell_type": "code",
   "execution_count": 21,
   "id": "40349679",
   "metadata": {},
   "outputs": [],
   "source": [
    "cnn.compile(optimizer='adam',loss='binary_crossentropy',metrics=['accuracy'])"
   ]
  },
  {
   "cell_type": "code",
   "execution_count": 22,
   "id": "9670aa44",
   "metadata": {},
   "outputs": [],
   "source": [
    "# TRAINING the CNN on the TRAINIG set and Evaluating it on the TEST set"
   ]
  },
  {
   "cell_type": "code",
   "execution_count": 23,
   "id": "5a4bf19f",
   "metadata": {
    "scrolled": true
   },
   "outputs": [
    {
     "name": "stdout",
     "output_type": "stream",
     "text": [
      "Epoch 1/25\n",
      "250/250 [==============================] - 175s 691ms/step - loss: 0.6894 - accuracy: 0.5411 - val_loss: 0.6517 - val_accuracy: 0.6420\n",
      "Epoch 2/25\n",
      "250/250 [==============================] - 53s 211ms/step - loss: 0.6464 - accuracy: 0.6295 - val_loss: 0.6228 - val_accuracy: 0.6610\n",
      "Epoch 3/25\n",
      "250/250 [==============================] - 53s 213ms/step - loss: 0.5978 - accuracy: 0.6815 - val_loss: 0.5838 - val_accuracy: 0.7035\n",
      "Epoch 4/25\n",
      "250/250 [==============================] - 53s 213ms/step - loss: 0.5634 - accuracy: 0.7035 - val_loss: 0.5444 - val_accuracy: 0.7365\n",
      "Epoch 5/25\n",
      "250/250 [==============================] - 54s 215ms/step - loss: 0.5348 - accuracy: 0.7314 - val_loss: 0.5214 - val_accuracy: 0.7545\n",
      "Epoch 6/25\n",
      "250/250 [==============================] - 53s 213ms/step - loss: 0.5081 - accuracy: 0.7499 - val_loss: 0.5062 - val_accuracy: 0.7580\n",
      "Epoch 7/25\n",
      "250/250 [==============================] - 54s 216ms/step - loss: 0.4920 - accuracy: 0.7589 - val_loss: 0.5146 - val_accuracy: 0.7555\n",
      "Epoch 8/25\n",
      "250/250 [==============================] - 55s 219ms/step - loss: 0.4737 - accuracy: 0.7725 - val_loss: 0.5335 - val_accuracy: 0.7500\n",
      "Epoch 9/25\n",
      "250/250 [==============================] - 55s 218ms/step - loss: 0.4573 - accuracy: 0.7854 - val_loss: 0.4809 - val_accuracy: 0.7745\n",
      "Epoch 10/25\n",
      "250/250 [==============================] - 55s 218ms/step - loss: 0.4441 - accuracy: 0.7925 - val_loss: 0.5041 - val_accuracy: 0.7745\n",
      "Epoch 11/25\n",
      "250/250 [==============================] - 55s 219ms/step - loss: 0.4296 - accuracy: 0.7968 - val_loss: 0.4846 - val_accuracy: 0.7785\n",
      "Epoch 12/25\n",
      "250/250 [==============================] - 54s 217ms/step - loss: 0.4068 - accuracy: 0.8116 - val_loss: 0.4827 - val_accuracy: 0.7845\n",
      "Epoch 13/25\n",
      "250/250 [==============================] - 56s 225ms/step - loss: 0.3905 - accuracy: 0.8202 - val_loss: 0.4789 - val_accuracy: 0.7905\n",
      "Epoch 14/25\n",
      "250/250 [==============================] - 64s 254ms/step - loss: 0.3831 - accuracy: 0.8250 - val_loss: 0.4895 - val_accuracy: 0.7885\n",
      "Epoch 15/25\n",
      "250/250 [==============================] - 54s 214ms/step - loss: 0.3644 - accuracy: 0.8378 - val_loss: 0.5169 - val_accuracy: 0.7730\n",
      "Epoch 16/25\n",
      "250/250 [==============================] - 52s 209ms/step - loss: 0.3530 - accuracy: 0.8413 - val_loss: 0.4957 - val_accuracy: 0.7865\n",
      "Epoch 17/25\n",
      "250/250 [==============================] - 53s 210ms/step - loss: 0.3378 - accuracy: 0.8489 - val_loss: 0.4821 - val_accuracy: 0.7900\n",
      "Epoch 18/25\n",
      "250/250 [==============================] - 53s 210ms/step - loss: 0.3203 - accuracy: 0.8558 - val_loss: 0.4943 - val_accuracy: 0.7945\n",
      "Epoch 19/25\n",
      "250/250 [==============================] - 52s 209ms/step - loss: 0.3063 - accuracy: 0.8666 - val_loss: 0.5064 - val_accuracy: 0.7890\n",
      "Epoch 20/25\n",
      "250/250 [==============================] - 52s 208ms/step - loss: 0.3026 - accuracy: 0.8723 - val_loss: 0.4680 - val_accuracy: 0.8110\n",
      "Epoch 21/25\n",
      "250/250 [==============================] - 53s 210ms/step - loss: 0.2900 - accuracy: 0.8780 - val_loss: 0.5197 - val_accuracy: 0.7955\n",
      "Epoch 22/25\n",
      "250/250 [==============================] - 55s 219ms/step - loss: 0.2686 - accuracy: 0.8856 - val_loss: 0.5214 - val_accuracy: 0.7975\n",
      "Epoch 23/25\n",
      "250/250 [==============================] - 54s 216ms/step - loss: 0.2640 - accuracy: 0.8864 - val_loss: 0.5758 - val_accuracy: 0.7790\n",
      "Epoch 24/25\n",
      "250/250 [==============================] - 51s 205ms/step - loss: 0.2553 - accuracy: 0.8980 - val_loss: 0.5561 - val_accuracy: 0.7940\n",
      "Epoch 25/25\n",
      "250/250 [==============================] - 51s 205ms/step - loss: 0.2330 - accuracy: 0.9049 - val_loss: 0.5504 - val_accuracy: 0.8010\n"
     ]
    },
    {
     "data": {
      "text/plain": [
       "<keras.src.callbacks.History at 0x215ec098fd0>"
      ]
     },
     "execution_count": 23,
     "metadata": {},
     "output_type": "execute_result"
    }
   ],
   "source": [
    "cnn.fit(x=training_set, validation_data=test_set, epochs=25)"
   ]
  },
  {
   "cell_type": "code",
   "execution_count": 29,
   "id": "b6659674",
   "metadata": {},
   "outputs": [],
   "source": [
    "# Making a Single Prediction\n",
    "# Making a Single Prediction\n",
    "# Making a Single Prediction\n",
    "# Making a Single Prediction\n",
    "# Making a Single Prediction\n",
    "# Making a Single Prediction\n",
    "# Making a Single Prediction\n",
    "# Making a Single Prediction\n",
    "# Making a Single Prediction\n",
    "# Making a Single Prediction\n",
    "# Making a Single Prediction"
   ]
  },
  {
   "cell_type": "code",
   "execution_count": 36,
   "id": "d7692d6e",
   "metadata": {},
   "outputs": [
    {
     "name": "stdout",
     "output_type": "stream",
     "text": [
      "1/1 [==============================] - 0s 56ms/step\n"
     ]
    }
   ],
   "source": [
    "import numpy as np\n",
    "from keras.preprocessing import image\n",
    "test_image = image.load_img('dataset/single_prediction/cat_or_dog_1.jpg', target_size=(64,64))\n",
    "test_image = image.img_to_array(test_image)\n",
    "test_image = np.expand_dims(test_image, axis=0)\n",
    "result = cnn.predict(test_image/255.0)\n",
    "training_set.class_indices\n",
    "if result[0][0] > 0.5:\n",
    "    prediction = 'dog'\n",
    "else:\n",
    "    prediction = 'cat'"
   ]
  },
  {
   "cell_type": "code",
   "execution_count": 37,
   "id": "b420eeac",
   "metadata": {},
   "outputs": [
    {
     "name": "stdout",
     "output_type": "stream",
     "text": [
      "dog\n"
     ]
    }
   ],
   "source": [
    "print(prediction)"
   ]
  },
  {
   "cell_type": "code",
   "execution_count": 40,
   "id": "bd568421",
   "metadata": {},
   "outputs": [
    {
     "name": "stdout",
     "output_type": "stream",
     "text": [
      "1/1 [==============================] - 0s 54ms/step\n"
     ]
    }
   ],
   "source": [
    "import numpy as np\n",
    "from keras.preprocessing import image\n",
    "test_image = image.load_img('dataset/single_prediction/cat_or_dog_2.jpg', target_size=(64,64))\n",
    "test_image = image.img_to_array(test_image)\n",
    "test_image = np.expand_dims(test_image, axis=0)\n",
    "result = cnn.predict(test_image/255.0)\n",
    "training_set.class_indices\n",
    "if result[0][0] > 0.5:\n",
    "    prediction = 'dog'\n",
    "else:\n",
    "    prediction = 'cat'"
   ]
  },
  {
   "cell_type": "code",
   "execution_count": 41,
   "id": "b2899976",
   "metadata": {},
   "outputs": [
    {
     "name": "stdout",
     "output_type": "stream",
     "text": [
      "cat\n"
     ]
    }
   ],
   "source": [
    "print(prediction)"
   ]
  },
  {
   "cell_type": "code",
   "execution_count": null,
   "id": "eaf5a966",
   "metadata": {},
   "outputs": [],
   "source": [
    "import numpy as np\n",
    "from keras.preprocessing import image\n",
    "test_image = image.load_img('dataset/single_prediction/cat_or_dog_2.jpg', target_size=(64,64))\n",
    "test_image = image.img_to_array(test_image)\n",
    "test_image = np.expand_dims(test_image, axis=0)\n",
    "result = cnn.predict(test_image/255.0)\n",
    "training_set.class_indices\n",
    "if result[0][0] > 0.5:\n",
    "    prediction = 'dog'\n",
    "else:\n",
    "    prediction = 'cat'"
   ]
  }
 ],
 "metadata": {
  "kernelspec": {
   "display_name": "Python 3 (ipykernel)",
   "language": "python",
   "name": "python3"
  },
  "language_info": {
   "codemirror_mode": {
    "name": "ipython",
    "version": 3
   },
   "file_extension": ".py",
   "mimetype": "text/x-python",
   "name": "python",
   "nbconvert_exporter": "python",
   "pygments_lexer": "ipython3",
   "version": "3.11.3"
  }
 },
 "nbformat": 4,
 "nbformat_minor": 5
}
